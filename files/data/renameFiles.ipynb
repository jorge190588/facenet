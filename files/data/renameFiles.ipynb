{
 "cells": [
  {
   "cell_type": "code",
   "execution_count": null,
   "metadata": {},
   "outputs": [],
   "source": [
    "import os\n",
    "import random\n",
    "\n",
    "dir_path =  os.getcwd()\n",
    "\n",
    "baseDir = \"input/\"\n",
    "for name in os.listdir(baseDir):\n",
    "    if name.find(\".txt\") == -1:\n",
    "        path, dirs, files = next(os.walk(baseDir+name))\n",
    "         \n",
    "        directory = dir_path+ '/'+'inputFixed/'+name\n",
    "        try:\n",
    "            os.stat(directory)\n",
    "            print 'directory already exist '+directory\n",
    "        except:\n",
    "            os.mkdir(directory)  \n",
    "            print 'create '+directory\n",
    "            \n",
    "        indice = 1\n",
    "        for file in os.listdir(baseDir + name):\n",
    "\n",
    "            oldFile = dir_path+'/'+baseDir+name+'/'+ file\n",
    "            newFile= dir_path+ '/'+'inputFixed/'+name+'/'+name+'_'+ '%04d' % int(indice) +'.jpg'\n",
    "\n",
    "            print oldFile\n",
    "            print newFile\n",
    "            indice =indice+1\n",
    "            os.rename(oldFile, newFile)\n",
    "        "
   ]
  }
 ],
 "metadata": {
  "kernelspec": {
   "display_name": "Python 2",
   "language": "python",
   "name": "python2"
  },
  "language_info": {
   "codemirror_mode": {
    "name": "ipython",
    "version": 2
   },
   "file_extension": ".py",
   "mimetype": "text/x-python",
   "name": "python",
   "nbconvert_exporter": "python",
   "pygments_lexer": "ipython2",
   "version": "2.7.12"
  }
 },
 "nbformat": 4,
 "nbformat_minor": 2
}
