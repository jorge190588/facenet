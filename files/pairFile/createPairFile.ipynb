{
 "cells": [
  {
   "cell_type": "code",
   "execution_count": 72,
   "metadata": {},
   "outputs": [],
   "source": [
    "import os\n",
    "import random\n",
    "\n",
    "\n",
    "baseDir = \"/notebooks/lfw/imageneesRostros/\"\n",
    "separate = \"_0\"\n",
    "folders = getFolders(baseDir)\n",
    "filePath = \"/notebooks/data/pairs.txt\"\n",
    "\n",
    "def createPairs(totalPairs):\n",
    "    result = []\n",
    "    for i in range(0, totalPairs-1):\n",
    "        for y in range(i+1, totalPairs):\n",
    "            #print str(i)+'-'+str(y)\n",
    "            result.append([i,y])\n",
    "    \n",
    "    return result\n",
    "\n",
    "def getFolders(baseDir):\n",
    "    folders = [name for name in os.listdir(baseDir) if name.find(\".txt\") == -1]  \n",
    "    return sorted(folders, reverse=False)\n",
    "\n",
    "\n",
    "\n",
    "def pairs():\n",
    "    for name in folders:    \n",
    "        path, dirs, files = next(os.walk(baseDir+name))\n",
    "        file_count = len(files)\n",
    "        if file_count>2:\n",
    "            file_count=2\n",
    "            \n",
    "        if(file_count>0):\n",
    "            a = []\n",
    "            for file in os.listdir(baseDir + name):\n",
    "                a.append(file)\n",
    "\n",
    "            with open(filePath,\"a\") as f:\n",
    "                pair_two_list = createPairs(file_count)\n",
    "                randomChoice = random.choice(a)\n",
    "                temp = random.choice(a).split(separate)[0] # This line may vary depending on how your images are named.\n",
    "                print('name',name,'count',file_count,'randomChoice',randomChoice,'temp',temp)\n",
    "                for l1 in pair_two_list:\n",
    "                    n0 = a[l1[0]].split(separate)[1].lstrip(\"0\").rstrip(\".png\")\n",
    "                    n1 = a[l1[1]].split(separate)[1].lstrip(\"0\").rstrip(\".png\")\n",
    "                    content = temp + \"\\t\" + n0 + \"\\t\" + n1 + \"\\n\"\n",
    "                    f.write(content)\n",
    "\n",
    "def shuffle(): \n",
    "    for i,name in enumerate(folders):\n",
    "        remaining = folders\n",
    "\n",
    "        del remaining[i] # deletes the file from the list, so that it is not chosen again\n",
    "        other_dir = random.choice(remaining)\n",
    "\n",
    "        with open(filePath,\"a\") as f:\n",
    "            flag=1\n",
    "            for i in range(1):\n",
    "                file1 = random.choice(os.listdir(baseDir + name))\n",
    "                file2 = random.choice(os.listdir(baseDir+ other_dir))\n",
    "                content = name + \"\\t\" + file1.split(separate)[1].lstrip(\"0\").rstrip(\".png\") + \"\\t\" + other_dir + \"\\t\" + file2.split(separate)[1].lstrip(\"0\").rstrip(\".png\") + \"\\n\"\n",
    "                f.write(content)    \n",
    "\n",
    " "
   ]
  },
  {
   "cell_type": "code",
   "execution_count": 73,
   "metadata": {},
   "outputs": [
    {
     "name": "stdout",
     "output_type": "stream",
     "text": [
      "('name', 'Camila_Santos', 'count', 2, 'randomChoice', 'Camila_Santos_0314.png', 'temp', 'Camila_Santos')\n",
      "('name', 'Cristiano_Ronaldo', 'count', 2, 'randomChoice', 'Cristiano_Ronaldo_0004.png', 'temp', 'Cristiano_Ronaldo')\n",
      "('name', 'David_Beckham', 'count', 2, 'randomChoice', 'David_Beckham_0018.png', 'temp', 'David_Beckham')\n",
      "('name', 'Estefani_Lara', 'count', 2, 'randomChoice', 'Estefani_Lara_0740.png', 'temp', 'Estefani_Lara')\n",
      "('name', 'Gareth_Bale', 'count', 2, 'randomChoice', 'Gareth_Bale_0865.png', 'temp', 'Gareth_Bale')\n",
      "('name', 'Iker_Casillas', 'count', 2, 'randomChoice', 'Iker_Casillas_0640.png', 'temp', 'Iker_Casillas')\n",
      "('name', 'Jorge_Santos', 'count', 2, 'randomChoice', 'Jorge_Santos_0588.png', 'temp', 'Jorge_Santos')\n",
      "('name', 'Jose_Mourinho', 'count', 2, 'randomChoice', 'Jose_Mourinho_0102.png', 'temp', 'Jose_Mourinho')\n",
      "('name', 'Leonel_Messi', 'count', 2, 'randomChoice', 'Leonel_Messi_0875.png', 'temp', 'Leonel_Messi')\n",
      "('name', 'Luca_Modric', 'count', 2, 'randomChoice', 'Luca_Modric_0020.png', 'temp', 'Luca_Modric')\n",
      "('name', 'Luis_Figo', 'count', 2, 'randomChoice', 'Luis_Figo_0746.png', 'temp', 'Luis_Figo')\n",
      "('name', 'Marcelo_Vieira', 'count', 2, 'randomChoice', 'Marcelo_Vieira_0204.png', 'temp', 'Marcelo_Vieira')\n",
      "('name', 'Marco_Asensio', 'count', 2, 'randomChoice', 'Marco_Asensio_0079.png', 'temp', 'Marco_Asensio')\n",
      "('name', 'Michael_Jackson', 'count', 2, 'randomChoice', 'Michael_Jackson_0005.png', 'temp', 'Michael_Jackson')\n",
      "('name', 'Neymar_daSilva', 'count', 2, 'randomChoice', 'Neymar_daSilva_0309.png', 'temp', 'Neymar_daSilva')\n",
      "('name', 'Pep_Guardiola', 'count', 2, 'randomChoice', 'Pep_Guardiola_0412.png', 'temp', 'Pep_Guardiola')\n",
      "('name', 'Raul_Gonzalez', 'count', 2, 'randomChoice', 'Raul_Gonzalez_0264.png', 'temp', 'Raul_Gonzalez')\n",
      "('name', 'Ronaldinho_Moreira', 'count', 2, 'randomChoice', 'Ronaldinho_Moreira_0317.png', 'temp', 'Ronaldinho_Moreira')\n",
      "('name', 'Sergio_Ramos', 'count', 2, 'randomChoice', 'Sergio_Ramos_0476.png', 'temp', 'Sergio_Ramos')\n",
      "('name', 'Xavi_Hernadez', 'count', 2, 'randomChoice', 'Xavi_Hernadez_0803.png', 'temp', 'Xavi_Hernadez')\n",
      "('name', 'Zinedine_Zidane', 'count', 2, 'randomChoice', 'Zinedine_Zidane_0943.png', 'temp', 'Zinedine_Zidane')\n"
     ]
    }
   ],
   "source": [
    "pairs()\n",
    "shuffle()"
   ]
  },
  {
   "cell_type": "markdown",
   "metadata": {},
   "source": [
    "References\n",
    "\n",
    "https://github.com/davidsandberg/facenet/issues/682\n",
    "http://vis-www.cs.umass.edu/lfw/README.txt"
   ]
  }
 ],
 "metadata": {
  "kernelspec": {
   "display_name": "Python 3",
   "language": "python",
   "name": "python3"
  },
  "language_info": {
   "codemirror_mode": {
    "name": "ipython",
    "version": 3
   },
   "file_extension": ".py",
   "mimetype": "text/x-python",
   "name": "python",
   "nbconvert_exporter": "python",
   "pygments_lexer": "ipython3",
   "version": "3.6.4"
  }
 },
 "nbformat": 4,
 "nbformat_minor": 2
}
